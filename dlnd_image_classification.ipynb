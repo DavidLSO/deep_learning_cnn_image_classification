{
 "cells": [
  {
   "cell_type": "markdown",
   "metadata": {
    "collapsed": true
   },
   "source": [
    "# Image Classification\n",
    "In this project, you'll classify images from the [CIFAR-10 dataset](https://www.cs.toronto.edu/~kriz/cifar.html).  The dataset consists of airplanes, dogs, cats, and other objects. You'll preprocess the images, then train a convolutional neural network on all the samples. The images need to be normalized and the labels need to be one-hot encoded.  You'll get to apply what you learned and build a convolutional, max pooling, dropout, and fully connected layers.  At the end, you'll get to see your neural network's predictions on the sample images.\n",
    "## Get the Data\n",
    "Run the following cell to download the [CIFAR-10 dataset for python](https://www.cs.toronto.edu/~kriz/cifar-10-python.tar.gz)."
   ]
  },
  {
   "cell_type": "code",
   "execution_count": 86,
   "metadata": {},
   "outputs": [
    {
     "name": "stdout",
     "output_type": "stream",
     "text": [
      "All files found!\n"
     ]
    }
   ],
   "source": [
    "\"\"\"\n",
    "DON'T MODIFY ANYTHING IN THIS CELL THAT IS BELOW THIS LINE\n",
    "\"\"\"\n",
    "from urllib.request import urlretrieve\n",
    "from os.path import isfile, isdir\n",
    "from tqdm import tqdm\n",
    "import problem_unittests as tests\n",
    "import tarfile\n",
    "\n",
    "cifar10_dataset_folder_path = 'cifar-10-batches-py'\n",
    "\n",
    "# Use Floyd's cifar-10 dataset if present\n",
    "floyd_cifar10_location = '/cifar/cifar-10-python.tar.gz'\n",
    "if isfile(floyd_cifar10_location):\n",
    "    tar_gz_path = floyd_cifar10_location\n",
    "else:\n",
    "    tar_gz_path = 'cifar-10-python.tar.gz'\n",
    "\n",
    "\n",
    "class DLProgress(tqdm):\n",
    "    last_block = 0\n",
    "\n",
    "    def hook(self, block_num=1, block_size=1, total_size=None):\n",
    "        self.total = total_size\n",
    "        self.update((block_num - self.last_block) * block_size)\n",
    "        self.last_block = block_num\n",
    "\n",
    "\n",
    "if not isfile(tar_gz_path):\n",
    "    with DLProgress(unit='B', unit_scale=True, miniters=1, desc='CIFAR-10 Dataset') as pbar:\n",
    "        urlretrieve(\n",
    "            'https://www.cs.toronto.edu/~kriz/cifar-10-python.tar.gz',\n",
    "            tar_gz_path,\n",
    "            pbar.hook)\n",
    "\n",
    "if not isdir(cifar10_dataset_folder_path):\n",
    "    with tarfile.open(tar_gz_path) as tar:\n",
    "        tar.extractall()\n",
    "        tar.close()\n",
    "\n",
    "tests.test_folder_path(cifar10_dataset_folder_path)\n"
   ]
  },
  {
   "cell_type": "markdown",
   "metadata": {},
   "source": [
    "## Explore the Data\n",
    "The dataset is broken into batches to prevent your machine from running out of memory.  The CIFAR-10 dataset consists of 5 batches, named `data_batch_1`, `data_batch_2`, etc.. Each batch contains the labels and images that are one of the following:\n",
    "* airplane\n",
    "* automobile\n",
    "* bird\n",
    "* cat\n",
    "* deer\n",
    "* dog\n",
    "* frog\n",
    "* horse\n",
    "* ship\n",
    "* truck\n",
    "\n",
    "Understanding a dataset is part of making predictions on the data.  Play around with the code cell below by changing the `batch_id` and `sample_id`. The `batch_id` is the id for a batch (1-5). The `sample_id` is the id for a image and label pair in the batch.\n",
    "\n",
    "Ask yourself \"What are all possible labels?\", \"What is the range of values for the image data?\", \"Are the labels in order or random?\".  Answers to questions like these will help you preprocess the data and end up with better predictions."
   ]
  },
  {
   "cell_type": "code",
   "execution_count": 87,
   "metadata": {},
   "outputs": [
    {
     "name": "stdout",
     "output_type": "stream",
     "text": [
      "\n",
      "Stats of batch 1:\n",
      "Samples: 10000\n",
      "Label Counts: {0: 1005, 1: 974, 2: 1032, 3: 1016, 4: 999, 5: 937, 6: 1030, 7: 1001, 8: 1025, 9: 981}\n",
      "First 20 Labels: [6, 9, 9, 4, 1, 1, 2, 7, 8, 3, 4, 7, 7, 2, 9, 9, 9, 3, 2, 6]\n",
      "\n",
      "Example of Image 5:\n",
      "Image - Min Value: 0 Max Value: 252\n",
      "Image - Shape: (32, 32, 3)\n",
      "Label - Label Id: 1 Name: automobile\n"
     ]
    },
    {
     "data": {
      "image/png": "[encoded data removed]",
      "text/plain": [
       "<matplotlib.figure.Figure at 0x1e8853a9b38>"
      ]
     },
     "metadata": {
      "image/png": {
       "height": 250.0,
       "width": 253.0
      }
     },
     "output_type": "display_data"
    }
   ],
   "source": [
    "%matplotlib inline\n",
    "%config InlineBackend.figure_format = 'retina'\n",
    "import helper\n",
    "import numpy as np\n",
    "\n",
    "# Explore the dataset\n",
    "batch_id = 1\n",
    "sample_id = 5\n",
    "helper.display_stats(cifar10_dataset_folder_path, batch_id, sample_id)\n"
   ]
  },
  {
   "cell_type": "markdown",
   "metadata": {},
   "source": [
    "## Implement Preprocess Functions\n",
    "### Normalize\n",
    "In the cell below, implement the `normalize` function to take in image data, `x`, and return it as a normalized Numpy array. The values should be in the range of 0 to 1, inclusive.  The return object should be the same shape as `x`."
   ]
  },
  {
   "cell_type": "code",
   "execution_count": 88,
   "metadata": {},
   "outputs": [
    {
     "name": "stdout",
     "output_type": "stream",
     "text": [
      "Tests Passed\n"
     ]
    }
   ],
   "source": [
    "def normalize(x):\n",
    "    \"\"\"\n",
    "    Normalize a list of sample image data in the range of 0 to 1\n",
    "    : x: List of image data.  The image shape is (32, 32, 3)\n",
    "    : return: Numpy array of normalize data\n",
    "    \"\"\"\n",
    "    return np.array((x - np.min(x)) / (np.max(x) - np.min(x)))\n",
    "\n",
    "\n",
    "\"\"\"\n",
    "DON'T MODIFY ANYTHING IN THIS CELL THAT IS BELOW THIS LINE\n",
    "\"\"\"\n",
    "tests.test_normalize(normalize)\n"
   ]
  },
  {
   "cell_type": "markdown",
   "metadata": {},
   "source": [
    "### One-hot encode\n",
    "Just like the previous code cell, you'll be implementing a function for preprocessing.  This time, you'll implement the `one_hot_encode` function. The input, `x`, are a list of labels.  Implement the function to return the list of labels as One-Hot encoded Numpy array.  The possible values for labels are 0 to 9. The one-hot encoding function should return the same encoding for each value between each call to `one_hot_encode`.  Make sure to save the map of encodings outside the function.\n",
    "\n",
    "Hint: Don't reinvent the wheel."
   ]
  },
  {
   "cell_type": "code",
   "execution_count": 89,
   "metadata": {},
   "outputs": [
    {
     "name": "stdout",
     "output_type": "stream",
     "text": [
      "Tests Passed\n"
     ]
    }
   ],
   "source": [
    "def one_hot_encode(x):\n",
    "    \"\"\"\n",
    "    One hot encode a list of sample labels. Return a one-hot encoded vector for each label.\n",
    "    : x: List of sample Labels\n",
    "    : return: Numpy array of one-hot encoded labels\n",
    "    \"\"\"\n",
    "    one_hot = np.zeros(shape=(len(x), 10))\n",
    "    for i in range(len(x)):\n",
    "        for j in range(10):\n",
    "            one_hot[i][j] = (j == x[i])\n",
    "    return one_hot\n",
    "\n",
    "\n",
    "\"\"\"\n",
    "DON'T MODIFY ANYTHING IN THIS CELL THAT IS BELOW THIS LINE\n",
    "\"\"\"\n",
    "tests.test_one_hot_encode(one_hot_encode)"
   ]
  },
  {
   "cell_type": "markdown",
   "metadata": {},
   "source": [
    "### Randomize Data\n",
    "As you saw from exploring the data above, the order of the samples are randomized.  It doesn't hurt to randomize it again, but you don't need to for this dataset."
   ]
  },
  {
   "cell_type": "markdown",
   "metadata": {},
   "source": [
    "## Preprocess all the data and save it\n",
    "Running the code cell below will preprocess all the CIFAR-10 data and save it to file. The code below also uses 10% of the training data for validation."
   ]
  },
  {
   "cell_type": "code",
   "execution_count": 90,
   "metadata": {},
   "outputs": [],
   "source": [
    "\"\"\"\n",
    "DON'T MODIFY ANYTHING IN THIS CELL\n",
    "\"\"\"\n",
    "# Preprocess Training, Validation, and Testing Data\n",
    "helper.preprocess_and_save_data(cifar10_dataset_folder_path, normalize, one_hot_encode)"
   ]
  },
  {
   "cell_type": "markdown",
   "metadata": {},
   "source": [
    "# Check Point\n",
    "This is your first checkpoint.  If you ever decide to come back to this notebook or have to restart the notebook, you can start from here.  The preprocessed data has been saved to disk."
   ]
  },
  {
   "cell_type": "code",
   "execution_count": 91,
   "metadata": {},
   "outputs": [],
   "source": [
    "\"\"\"\n",
    "DON'T MODIFY ANYTHING IN THIS CELL\n",
    "\"\"\"\n",
    "import pickle\n",
    "import problem_unittests as tests\n",
    "import helper\n",
    "\n",
    "# Load the Preprocessed Validation data\n",
    "valid_features, valid_labels = pickle.load(open('preprocess_validation.p', mode='rb'))"
   ]
  },
  {
   "cell_type": "markdown",
   "metadata": {},
   "source": [
    "## Build the network\n",
    "For the neural network, you'll build each layer into a function.  Most of the code you've seen has been outside of functions. To test your code more thoroughly, we require that you put each layer in a function.  This allows us to give you better feedback and test for simple mistakes using our unittests before you submit your project.\n",
    "\n",
    ">**Note:** If you're finding it hard to dedicate enough time for this course each week, we've provided a small shortcut to this part of the project. In the next couple of problems, you'll have the option to use classes from the [TensorFlow Layers](https://www.tensorflow.org/api_docs/python/tf/layers) or [TensorFlow Layers (contrib)](https://www.tensorflow.org/api_guides/python/contrib.layers) packages to build each layer, except the layers you build in the \"Convolutional and Max Pooling Layer\" section.  TF Layers is similar to Keras's and TFLearn's abstraction to layers, so it's easy to pickup.\n",
    "\n",
    ">However, if you would like to get the most out of this course, try to solve all the problems _without_ using anything from the TF Layers packages. You **can** still use classes from other packages that happen to have the same name as ones you find in TF Layers! For example, instead of using the TF Layers version of the `conv2d` class, [tf.layers.conv2d](https://www.tensorflow.org/api_docs/python/tf/layers/conv2d), you would want to use the TF Neural Network version of `conv2d`, [tf.nn.conv2d](https://www.tensorflow.org/api_docs/python/tf/nn/conv2d). \n",
    "\n",
    "Let's begin!\n",
    "\n",
    "### Input\n",
    "The neural network needs to read the image data, one-hot encoded labels, and dropout keep probability. Implement the following functions\n",
    "* Implement `neural_net_image_input`\n",
    " * Return a [TF Placeholder](https://www.tensorflow.org/api_docs/python/tf/placeholder)\n",
    " * Set the shape using `image_shape` with batch size set to `None`.\n",
    " * Name the TensorFlow placeholder \"x\" using the TensorFlow `name` parameter in the [TF Placeholder](https://www.tensorflow.org/api_docs/python/tf/placeholder).\n",
    "* Implement `neural_net_label_input`\n",
    " * Return a [TF Placeholder](https://www.tensorflow.org/api_docs/python/tf/placeholder)\n",
    " * Set the shape using `n_classes` with batch size set to `None`.\n",
    " * Name the TensorFlow placeholder \"y\" using the TensorFlow `name` parameter in the [TF Placeholder](https://www.tensorflow.org/api_docs/python/tf/placeholder).\n",
    "* Implement `neural_net_keep_prob_input`\n",
    " * Return a [TF Placeholder](https://www.tensorflow.org/api_docs/python/tf/placeholder) for dropout keep probability.\n",
    " * Name the TensorFlow placeholder \"keep_prob\" using the TensorFlow `name` parameter in the [TF Placeholder](https://www.tensorflow.org/api_docs/python/tf/placeholder).\n",
    "\n",
    "These names will be used at the end of the project to load your saved model.\n",
    "\n",
    "Note: `None` for shapes in TensorFlow allow for a dynamic size."
   ]
  },
  {
   "cell_type": "code",
   "execution_count": 92,
   "metadata": {},
   "outputs": [
    {
     "name": "stdout",
     "output_type": "stream",
     "text": [
      "Image Input Tests Passed.\n",
      "Label Input Tests Passed.\n",
      "Keep Prob Tests Passed.\n"
     ]
    }
   ],
   "source": [
    "import tensorflow as tf\n",
    "\n",
    "\n",
    "def neural_net_image_input(image_shape):\n",
    "    \"\"\"\n",
    "    Return a Tensor for a batch of image input\n",
    "    : image_shape: Shape of the images\n",
    "    : return: Tensor for image input.\n",
    "    \"\"\"\n",
    "    return tf.placeholder(tf.float32, shape=[None, *image_shape], name=\"x\")\n",
    "\n",
    "\n",
    "def neural_net_label_input(n_classes):\n",
    "    \"\"\"\n",
    "    Return a Tensor for a batch of label input\n",
    "    : n_classes: Number of classes\n",
    "    : return: Tensor for label input.\n",
    "    \"\"\"\n",
    "    return tf.placeholder(tf.float32, shape=[None, n_classes], name='y')\n",
    "\n",
    "\n",
    "def neural_net_keep_prob_input():\n",
    "    \"\"\"\n",
    "    Return a Tensor for keep probability\n",
    "    : return: Tensor for keep probability.\n",
    "    \"\"\"\n",
    "    return tf.placeholder(tf.float32, name='keep_prob')    \n",
    "\n",
    "\n",
    "\"\"\"\n",
    "DON'T MODIFY ANYTHING IN THIS CELL THAT IS BELOW THIS LINE\n",
    "\"\"\"\n",
    "tf.reset_default_graph()\n",
    "tests.test_nn_image_inputs(neural_net_image_input)\n",
    "tests.test_nn_label_inputs(neural_net_label_input)\n",
    "tests.test_nn_keep_prob_inputs(neural_net_keep_prob_input)\n"
   ]
  },
  {
   "cell_type": "markdown",
   "metadata": {},
   "source": [
    "### Convolution and Max Pooling Layer\n",
    "Convolution layers have a lot of success with images. For this code cell, you should implement the function `conv2d_maxpool` to apply convolution then max pooling:\n",
    "* Create the weight and bias using `conv_ksize`, `conv_num_outputs` and the shape of `x_tensor`.\n",
    "* Apply a convolution to `x_tensor` using weight and `conv_strides`.\n",
    " * We recommend you use same padding, but you're welcome to use any padding.\n",
    "* Add bias\n",
    "* Add a nonlinear activation to the convolution.\n",
    "* Apply Max Pooling using `pool_ksize` and `pool_strides`.\n",
    " * We recommend you use same padding, but you're welcome to use any padding.\n",
    "\n",
    "**Note:** You **can't** use [TensorFlow Layers](https://www.tensorflow.org/api_docs/python/tf/layers) or [TensorFlow Layers (contrib)](https://www.tensorflow.org/api_guides/python/contrib.layers) for **this** layer, but you can still use TensorFlow's [Neural Network](https://www.tensorflow.org/api_docs/python/tf/nn) package. You may still use the shortcut option for all the **other** layers."
   ]
  },
  {
   "cell_type": "code",
   "execution_count": 93,
   "metadata": {},
   "outputs": [
    {
     "name": "stdout",
     "output_type": "stream",
     "text": [
      "Tests Passed\n"
     ]
    }
   ],
   "source": [
    "def conv2d_maxpool(x_tensor, conv_num_outputs, conv_ksize, conv_strides, pool_ksize, pool_strides):\n",
    "    \"\"\"\n",
    "    Apply convolution then max pooling to x_tensor\n",
    "    :param x_tensor: TensorFlow Tensor\n",
    "    :param conv_num_outputs: Number of outputs for the convolutional layer\n",
    "    :param conv_ksize: kernal size 2-D Tuple for the convolutional layer\n",
    "    :param conv_strides: Stride 2-D Tuple for convolution\n",
    "    :param pool_ksize: kernal size 2-D Tuple for pool\n",
    "    :param pool_strides: Stride 2-D Tuple for pool\n",
    "    : return: A tensor that represents convolution and max pooling of x_tensor\n",
    "    \"\"\"\n",
    "    input_channel_depth = int(x_tensor.get_shape()[3])\n",
    "    filter_weights = tf.Variable(tf.truncated_normal([*conv_ksize, input_channel_depth, \n",
    "                                                      conv_num_outputs], dtype=tf.float32))\n",
    "    filter_biases = tf.Variable(tf.constant(0, shape=[conv_num_outputs], dtype=tf.float32))\n",
    "    \n",
    "    conv1 = tf.nn.conv2d(input=x_tensor, filter=filter_weights, strides=[1, *conv_strides, 1], padding='SAME')\n",
    "    conv1 += filter_biases\n",
    "    max_pool = tf.nn.max_pool(conv1, [1, *pool_ksize, 1], strides=[1, *pool_strides, 1], padding='SAME')\n",
    "    return tf.nn.relu(max_pool, name='relu_tensor')\n",
    "\n",
    "\n",
    "\"\"\"\n",
    "DON'T MODIFY ANYTHING IN THIS CELL THAT IS BELOW THIS LINE\n",
    "\"\"\"\n",
    "tests.test_con_pool(conv2d_maxpool)"
   ]
  },
  {
   "cell_type": "markdown",
   "metadata": {},
   "source": [
    "### Flatten Layer\n",
    "Implement the `flatten` function to change the dimension of `x_tensor` from a 4-D tensor to a 2-D tensor.  The output should be the shape (*Batch Size*, *Flattened Image Size*). Shortcut option: you can use classes from the [TensorFlow Layers](https://www.tensorflow.org/api_docs/python/tf/layers) or [TensorFlow Layers (contrib)](https://www.tensorflow.org/api_guides/python/contrib.layers) packages for this layer. For more of a challenge, only use other TensorFlow packages."
   ]
  },
  {
   "cell_type": "code",
   "execution_count": 94,
   "metadata": {},
   "outputs": [
    {
     "name": "stdout",
     "output_type": "stream",
     "text": [
      "Tests Passed\n"
     ]
    }
   ],
   "source": [
    "def flatten(x_tensor):\n",
    "    \"\"\"\n",
    "    Flatten x_tensor to (Batch Size, Flattened Image Size)\n",
    "    : x_tensor: A tensor of size (Batch Size, ...), where ... are the image dimensions.\n",
    "    : return: A tensor of size (Batch Size, Flattened Image Size).\n",
    "    \"\"\"\n",
    "    return tf.contrib.layers.flatten(x_tensor)\n",
    "\n",
    "\n",
    "\"\"\"\n",
    "DON'T MODIFY ANYTHING IN THIS CELL THAT IS BELOW THIS LINE\n",
    "\"\"\"\n",
    "tests.test_flatten(flatten)"
   ]
  },
  {
   "cell_type": "markdown",
   "metadata": {},
   "source": [
    "### Fully-Connected Layer\n",
    "Implement the `fully_conn` function to apply a fully connected layer to `x_tensor` with the shape (*Batch Size*, *num_outputs*). Shortcut option: you can use classes from the [TensorFlow Layers](https://www.tensorflow.org/api_docs/python/tf/layers) or [TensorFlow Layers (contrib)](https://www.tensorflow.org/api_guides/python/contrib.layers) packages for this layer. For more of a challenge, only use other TensorFlow packages."
   ]
  },
  {
   "cell_type": "code",
   "execution_count": 95,
   "metadata": {},
   "outputs": [
    {
     "name": "stdout",
     "output_type": "stream",
     "text": [
      "Tests Passed\n"
     ]
    }
   ],
   "source": [
    "def fully_conn(x_tensor, num_outputs):\n",
    "    \"\"\"\n",
    "    Apply a fully connected layer to x_tensor using weight and bias\n",
    "    : x_tensor: A 2-D tensor where the first dimension is batch size.\n",
    "    : num_outputs: The number of output that the new tensor should be.\n",
    "    : return: A 2-D tensor where the second dimension is num_outputs.\n",
    "    \"\"\"\n",
    "    return tf.contrib.layers.fully_connected(inputs=x_tensor, num_outputs=num_outputs)\n",
    "\n",
    "\n",
    "\"\"\"\n",
    "DON'T MODIFY ANYTHING IN THIS CELL THAT IS BELOW THIS LINE\n",
    "\"\"\"\n",
    "tests.test_fully_conn(fully_conn)"
   ]
  },
  {
   "cell_type": "markdown",
   "metadata": {},
   "source": [
    "### Output Layer\n",
    "Implement the `output` function to apply a fully connected layer to `x_tensor` with the shape (*Batch Size*, *num_outputs*). Shortcut option: you can use classes from the [TensorFlow Layers](https://www.tensorflow.org/api_docs/python/tf/layers) or [TensorFlow Layers (contrib)](https://www.tensorflow.org/api_guides/python/contrib.layers) packages for this layer. For more of a challenge, only use other TensorFlow packages.\n",
    "\n",
    "**Note:** Activation, softmax, or cross entropy should **not** be applied to this."
   ]
  },
  {
   "cell_type": "code",
   "execution_count": 96,
   "metadata": {},
   "outputs": [
    {
     "name": "stdout",
     "output_type": "stream",
     "text": [
      "Tests Passed\n"
     ]
    }
   ],
   "source": [
    "from numpy.distutils.system_info import x11_info\n",
    "\n",
    "\n",
    "def output(x_tensor, num_outputs):\n",
    "    \"\"\"\n",
    "    Apply a output layer to x_tensor using weight and bias\n",
    "    : x_tensor: A 2-D tensor where the first dimension is batch size.\n",
    "    : num_outputs: The number of output that the new tensor should be.\n",
    "    : return: A 2-D tensor where the second dimension is num_outputs.\n",
    "    \"\"\"\n",
    "    return tf.layers.dense(inputs=x_tensor, units=num_outputs)\n",
    "\n",
    "\n",
    "\"\"\"\n",
    "DON'T MODIFY ANYTHING IN THIS CELL THAT IS BELOW THIS LINE\n",
    "\"\"\"\n",
    "tests.test_output(output)"
   ]
  },
  {
   "cell_type": "markdown",
   "metadata": {},
   "source": [
    "### Create Convolutional Model\n",
    "Implement the function `conv_net` to create a convolutional neural network model. The function takes in a batch of images, `x`, and outputs logits.  Use the layers you created above to create this model:\n",
    "\n",
    "* Apply 1, 2, or 3 Convolution and Max Pool layers\n",
    "* Apply a Flatten Layer\n",
    "* Apply 1, 2, or 3 Fully Connected Layers\n",
    "* Apply an Output Layer\n",
    "* Return the output\n",
    "* Apply [TensorFlow's Dropout](https://www.tensorflow.org/api_docs/python/tf/nn/dropout) to one or more layers in the model using `keep_prob`. "
   ]
  },
  {
   "cell_type": "code",
   "execution_count": 97,
   "metadata": {},
   "outputs": [
    {
     "name": "stdout",
     "output_type": "stream",
     "text": [
      "Neural Network Built!\n"
     ]
    }
   ],
   "source": [
    "def conv_net(x, keep_prob):\n",
    "    \"\"\"\n",
    "    Create a convolutional neural network model\n",
    "    : x: Placeholder tensor that holds image data.\n",
    "    : keep_prob: Placeholder tensor that hold dropout keep probability.\n",
    "    : return: Tensor that represents logits\n",
    "    \"\"\"\n",
    "    x_tensor = x\n",
    "    conv_num_outputs = 64\n",
    "    conv_ksize = (5, 5)\n",
    "    conv_strides = (2, 2)\n",
    "    pool_ksize = (3, 3)\n",
    "    pool_strides = (2, 2)\n",
    "    conv2d_layer = conv2d_maxpool(x_tensor, conv_num_outputs, conv_ksize, conv_strides, pool_ksize, pool_strides)\n",
    "    \n",
    "    # Function Definition from Above:\n",
    "    flatten_layer = flatten(conv2d_layer)\n",
    "    num_outputs = 10\n",
    "    fully_conn_layer = fully_conn(flatten_layer, 1000)\n",
    "    fully_conn_layer = tf.nn.dropout(fully_conn_layer, keep_prob)\n",
    "    return output(fully_conn_layer, num_outputs)\n",
    "\n",
    "\n",
    "\"\"\"\n",
    "DON'T MODIFY ANYTHING IN THIS CELL THAT IS BELOW THIS LINE\n",
    "\"\"\"\n",
    "\n",
    "##############################\n",
    "## Build the Neural Network ##\n",
    "##############################\n",
    "\n",
    "# Remove previous weights, bias, inputs, etc..\n",
    "tf.reset_default_graph()\n",
    "\n",
    "# Inputs\n",
    "x = neural_net_image_input((32, 32, 3))\n",
    "y = neural_net_label_input(10)\n",
    "keep_prob = neural_net_keep_prob_input()\n",
    "\n",
    "# Model\n",
    "logits = conv_net(x, keep_prob)\n",
    "\n",
    "# Name logits Tensor, so that is can be loaded from disk after training\n",
    "logits = tf.identity(logits, name='logits')\n",
    "\n",
    "# Loss and Optimizer\n",
    "cost = tf.reduce_mean(tf.nn.softmax_cross_entropy_with_logits(logits=logits, labels=y))\n",
    "optimizer = tf.train.AdamOptimizer().minimize(cost)\n",
    "\n",
    "# Accuracy\n",
    "correct_pred = tf.equal(tf.argmax(logits, 1), tf.argmax(y, 1))\n",
    "accuracy = tf.reduce_mean(tf.cast(correct_pred, tf.float32), name='accuracy')\n",
    "\n",
    "tests.test_conv_net(conv_net)"
   ]
  },
  {
   "cell_type": "markdown",
   "metadata": {},
   "source": [
    "## Train the Neural Network\n",
    "### Single Optimization\n",
    "Implement the function `train_neural_network` to do a single optimization.  The optimization should use `optimizer` to optimize in `session` with a `feed_dict` of the following:\n",
    "* `x` for image input\n",
    "* `y` for labels\n",
    "* `keep_prob` for keep probability for dropout\n",
    "\n",
    "This function will be called for each batch, so `tf.global_variables_initializer()` has already been called.\n",
    "\n",
    "Note: Nothing needs to be returned. This function is only optimizing the neural network."
   ]
  },
  {
   "cell_type": "code",
   "execution_count": 98,
   "metadata": {},
   "outputs": [
    {
     "name": "stdout",
     "output_type": "stream",
     "text": [
      "Tests Passed\n"
     ]
    }
   ],
   "source": [
    "def train_neural_network(session, optimizer, keep_probability, feature_batch, label_batch):\n",
    "    \"\"\"\n",
    "    Optimize the session on a batch of images and labels\n",
    "    : session: Current TensorFlow session\n",
    "    : optimizer: TensorFlow optimizer function\n",
    "    : keep_probability: keep probability\n",
    "    : feature_batch: Batch of Numpy image data\n",
    "    : label_batch: Batch of Numpy label data\n",
    "    \"\"\"\n",
    "    session.run(optimizer, feed_dict={x: feature_batch, y: label_batch, keep_prob: keep_probability})\n",
    "    \n",
    "\n",
    "\"\"\"\n",
    "DON'T MODIFY ANYTHING IN THIS CELL THAT IS BELOW THIS LINE\n",
    "\"\"\"\n",
    "tests.test_train_nn(train_neural_network)"
   ]
  },
  {
   "cell_type": "markdown",
   "metadata": {},
   "source": [
    "### Show Stats\n",
    "Implement the function `print_stats` to print loss and validation accuracy.  Use the global variables `valid_features` and `valid_labels` to calculate validation accuracy.  Use a keep probability of `1.0` to calculate the loss and validation accuracy."
   ]
  },
  {
   "cell_type": "code",
   "execution_count": 99,
   "metadata": {},
   "outputs": [],
   "source": [
    "def print_stats(session, feature_batch, label_batch, cost, accuracy):\n",
    "    \"\"\"\n",
    "    Print information about loss and validation accuracy\n",
    "    : session: Current TensorFlow session\n",
    "    : feature_batch: Batch of Numpy image data\n",
    "    : label_batch: Batch of Numpy label data\n",
    "    : cost: TensorFlow cost function\n",
    "    : accuracy: TensorFlow accuracy function\n",
    "    \"\"\"\n",
    "    loss = session.run(cost, feed_dict={x: feature_batch, y: label_batch, keep_prob: 1.0})\n",
    "    valid_acc = session.run(accuracy, feed_dict={x: valid_features, y: valid_labels, keep_prob: 1.0})\n",
    "    print('Loss: {:>10.4f} Accuracy: {:.6f}'.format(loss, valid_acc))\n"
   ]
  },
  {
   "cell_type": "markdown",
   "metadata": {},
   "source": [
    "### Hyperparameters\n",
    "Tune the following parameters:\n",
    "* Set `epochs` to the number of iterations until the network stops learning or start overfitting\n",
    "* Set `batch_size` to the highest number that your machine has memory for.  Most people set them to common sizes of memory:\n",
    " * 64\n",
    " * 128\n",
    " * 256\n",
    " * ...\n",
    "* Set `keep_probability` to the probability of keeping a node using dropout"
   ]
  },
  {
   "cell_type": "code",
   "execution_count": 100,
   "metadata": {},
   "outputs": [],
   "source": [
    "\n",
    "epochs = 30\n",
    "batch_size = 512\n",
    "keep_probability = 0.8"
   ]
  },
  {
   "cell_type": "markdown",
   "metadata": {},
   "source": [
    "### Train on a Single CIFAR-10 Batch\n",
    "Instead of training the neural network on all the CIFAR-10 batches of data, let's use a single batch. This should save time while you iterate on the model to get a better accuracy.  Once the final validation accuracy is 50% or greater, run the model on all the data in the next section."
   ]
  },
  {
   "cell_type": "code",
   "execution_count": 101,
   "metadata": {
    "scrolled": false
   },
   "outputs": [
    {
     "name": "stdout",
     "output_type": "stream",
     "text": [
      "Checking the Training on a Single Batch...\n",
      "Epoch  1, CIFAR-10 Batch 1:  Loss:     4.2471 Accuracy: 0.210000\n",
      "Epoch  2, CIFAR-10 Batch 1:  Loss:     2.0152 Accuracy: 0.293200\n",
      "Epoch  3, CIFAR-10 Batch 1:  Loss:     1.8660 Accuracy: 0.363200\n",
      "Epoch  4, CIFAR-10 Batch 1:  Loss:     1.7256 Accuracy: 0.399600\n",
      "Epoch  5, CIFAR-10 Batch 1:  Loss:     1.6314 Accuracy: 0.422400\n",
      "Epoch  6, CIFAR-10 Batch 1:  Loss:     1.5434 Accuracy: 0.442600\n",
      "Epoch  7, CIFAR-10 Batch 1:  Loss:     1.4608 Accuracy: 0.460400\n",
      "Epoch  8, CIFAR-10 Batch 1:  Loss:     1.3799 Accuracy: 0.478800\n",
      "Epoch  9, CIFAR-10 Batch 1:  Loss:     1.2976 Accuracy: 0.492600\n",
      "Epoch 10, CIFAR-10 Batch 1:  Loss:     1.2198 Accuracy: 0.506200\n",
      "Epoch 11, CIFAR-10 Batch 1:  Loss:     1.1562 Accuracy: 0.511600\n",
      "Epoch 12, CIFAR-10 Batch 1:  Loss:     1.1068 Accuracy: 0.518000\n",
      "Epoch 13, CIFAR-10 Batch 1:  Loss:     1.0565 Accuracy: 0.524400\n",
      "Epoch 14, CIFAR-10 Batch 1:  Loss:     1.0012 Accuracy: 0.530600\n",
      "Epoch 15, CIFAR-10 Batch 1:  Loss:     0.9613 Accuracy: 0.539000\n",
      "Epoch 16, CIFAR-10 Batch 1:  Loss:     0.9136 Accuracy: 0.547200\n",
      "Epoch 17, CIFAR-10 Batch 1:  Loss:     0.8769 Accuracy: 0.545800\n",
      "Epoch 18, CIFAR-10 Batch 1:  Loss:     0.8420 Accuracy: 0.550200\n",
      "Epoch 19, CIFAR-10 Batch 1:  Loss:     0.8082 Accuracy: 0.546800\n",
      "Epoch 20, CIFAR-10 Batch 1:  Loss:     0.7668 Accuracy: 0.553400\n",
      "Epoch 21, CIFAR-10 Batch 1:  Loss:     0.7456 Accuracy: 0.558000\n",
      "Epoch 22, CIFAR-10 Batch 1:  Loss:     0.7081 Accuracy: 0.559000\n",
      "Epoch 23, CIFAR-10 Batch 1:  Loss:     0.6813 Accuracy: 0.552200\n",
      "Epoch 24, CIFAR-10 Batch 1:  Loss:     0.6578 Accuracy: 0.559800\n",
      "Epoch 25, CIFAR-10 Batch 1:  Loss:     0.6429 Accuracy: 0.562800\n",
      "Epoch 26, CIFAR-10 Batch 1:  Loss:     0.6207 Accuracy: 0.564000\n",
      "Epoch 27, CIFAR-10 Batch 1:  Loss:     0.5977 Accuracy: 0.560200\n",
      "Epoch 28, CIFAR-10 Batch 1:  Loss:     0.5704 Accuracy: 0.564800\n",
      "Epoch 29, CIFAR-10 Batch 1:  Loss:     0.5648 Accuracy: 0.559600\n",
      "Epoch 30, CIFAR-10 Batch 1:  Loss:     0.5363 Accuracy: 0.562800\n"
     ]
    }
   ],
   "source": [
    "\"\"\"\n",
    "DON'T MODIFY ANYTHING IN THIS CELL\n",
    "\"\"\"\n",
    "print('Checking the Training on a Single Batch...')\n",
    "with tf.Session() as sess:\n",
    "    # Initializing the variables\n",
    "    sess.run(tf.global_variables_initializer())\n",
    "    \n",
    "    # Training cycle\n",
    "    for epoch in range(epochs):\n",
    "        batch_i = 1\n",
    "        for batch_features, batch_labels in helper.load_preprocess_training_batch(batch_i, batch_size):\n",
    "            train_neural_network(sess, optimizer, keep_probability, batch_features, batch_labels)\n",
    "        print('Epoch {:>2}, CIFAR-10 Batch {}:  '.format(epoch + 1, batch_i), end='')\n",
    "        print_stats(sess, batch_features, batch_labels, cost, accuracy)"
   ]
  },
  {
   "cell_type": "markdown",
   "metadata": {},
   "source": [
    "### Fully Train the Model\n",
    "Now that you got a good accuracy with a single CIFAR-10 batch, try it with all five batches."
   ]
  },
  {
   "cell_type": "code",
   "execution_count": 102,
   "metadata": {
    "scrolled": false
   },
   "outputs": [
    {
     "name": "stdout",
     "output_type": "stream",
     "text": [
      "Training...\n",
      "Epoch  1, CIFAR-10 Batch 1:  Loss:     6.5434 Accuracy: 0.127200\n",
      "Epoch  1, CIFAR-10 Batch 2:  Loss:     1.9689 Accuracy: 0.246000\n",
      "Epoch  1, CIFAR-10 Batch 3:  Loss:     1.7488 Accuracy: 0.350000\n",
      "Epoch  1, CIFAR-10 Batch 4:  Loss:     1.6143 Accuracy: 0.406600\n",
      "Epoch  1, CIFAR-10 Batch 5:  Loss:     1.6596 Accuracy: 0.424400\n",
      "Epoch  2, CIFAR-10 Batch 1:  Loss:     1.6434 Accuracy: 0.442800\n",
      "Epoch  2, CIFAR-10 Batch 2:  Loss:     1.4792 Accuracy: 0.463800\n",
      "Epoch  2, CIFAR-10 Batch 3:  Loss:     1.3479 Accuracy: 0.476000\n",
      "Epoch  2, CIFAR-10 Batch 4:  Loss:     1.3143 Accuracy: 0.492000\n",
      "Epoch  2, CIFAR-10 Batch 5:  Loss:     1.4050 Accuracy: 0.507800\n",
      "Epoch  3, CIFAR-10 Batch 1:  Loss:     1.3846 Accuracy: 0.515200\n",
      "Epoch  3, CIFAR-10 Batch 2:  Loss:     1.2881 Accuracy: 0.510400\n",
      "Epoch  3, CIFAR-10 Batch 3:  Loss:     1.1859 Accuracy: 0.518400\n",
      "Epoch  3, CIFAR-10 Batch 4:  Loss:     1.1446 Accuracy: 0.532000\n",
      "Epoch  3, CIFAR-10 Batch 5:  Loss:     1.2411 Accuracy: 0.530400\n",
      "Epoch  4, CIFAR-10 Batch 1:  Loss:     1.2600 Accuracy: 0.550400\n",
      "Epoch  4, CIFAR-10 Batch 2:  Loss:     1.1957 Accuracy: 0.535000\n",
      "Epoch  4, CIFAR-10 Batch 3:  Loss:     1.1022 Accuracy: 0.543200\n",
      "Epoch  4, CIFAR-10 Batch 4:  Loss:     1.0442 Accuracy: 0.563200\n",
      "Epoch  4, CIFAR-10 Batch 5:  Loss:     1.1387 Accuracy: 0.560600\n",
      "Epoch  5, CIFAR-10 Batch 1:  Loss:     1.1763 Accuracy: 0.576400\n",
      "Epoch  5, CIFAR-10 Batch 2:  Loss:     1.1229 Accuracy: 0.552800\n",
      "Epoch  5, CIFAR-10 Batch 3:  Loss:     1.0440 Accuracy: 0.571800\n",
      "Epoch  5, CIFAR-10 Batch 4:  Loss:     0.9700 Accuracy: 0.574000\n",
      "Epoch  5, CIFAR-10 Batch 5:  Loss:     1.0512 Accuracy: 0.588600\n",
      "Epoch  6, CIFAR-10 Batch 1:  Loss:     1.1002 Accuracy: 0.585200\n",
      "Epoch  6, CIFAR-10 Batch 2:  Loss:     1.0845 Accuracy: 0.572600\n",
      "Epoch  6, CIFAR-10 Batch 3:  Loss:     0.9780 Accuracy: 0.586800\n",
      "Epoch  6, CIFAR-10 Batch 4:  Loss:     0.9188 Accuracy: 0.591200\n",
      "Epoch  6, CIFAR-10 Batch 5:  Loss:     1.0008 Accuracy: 0.586600\n",
      "Epoch  7, CIFAR-10 Batch 1:  Loss:     1.0359 Accuracy: 0.594600\n",
      "Epoch  7, CIFAR-10 Batch 2:  Loss:     0.9879 Accuracy: 0.582400\n",
      "Epoch  7, CIFAR-10 Batch 3:  Loss:     0.8888 Accuracy: 0.599400\n",
      "Epoch  7, CIFAR-10 Batch 4:  Loss:     0.8726 Accuracy: 0.604600\n",
      "Epoch  7, CIFAR-10 Batch 5:  Loss:     0.9699 Accuracy: 0.591400\n",
      "Epoch  8, CIFAR-10 Batch 1:  Loss:     0.9915 Accuracy: 0.600600\n",
      "Epoch  8, CIFAR-10 Batch 2:  Loss:     0.9699 Accuracy: 0.588800\n",
      "Epoch  8, CIFAR-10 Batch 3:  Loss:     0.8911 Accuracy: 0.599000\n",
      "Epoch  8, CIFAR-10 Batch 4:  Loss:     0.8341 Accuracy: 0.601800\n",
      "Epoch  8, CIFAR-10 Batch 5:  Loss:     0.9102 Accuracy: 0.601800\n",
      "Epoch  9, CIFAR-10 Batch 1:  Loss:     0.9653 Accuracy: 0.604400\n",
      "Epoch  9, CIFAR-10 Batch 2:  Loss:     0.9526 Accuracy: 0.585400\n",
      "Epoch  9, CIFAR-10 Batch 3:  Loss:     0.8421 Accuracy: 0.605800\n",
      "Epoch  9, CIFAR-10 Batch 4:  Loss:     0.8111 Accuracy: 0.609800\n",
      "Epoch  9, CIFAR-10 Batch 5:  Loss:     0.8676 Accuracy: 0.610200\n",
      "Epoch 10, CIFAR-10 Batch 1:  Loss:     0.9324 Accuracy: 0.603000\n",
      "Epoch 10, CIFAR-10 Batch 2:  Loss:     0.9186 Accuracy: 0.602200\n",
      "Epoch 10, CIFAR-10 Batch 3:  Loss:     0.7992 Accuracy: 0.615200\n",
      "Epoch 10, CIFAR-10 Batch 4:  Loss:     0.7814 Accuracy: 0.609600\n",
      "Epoch 10, CIFAR-10 Batch 5:  Loss:     0.8583 Accuracy: 0.608000\n",
      "Epoch 11, CIFAR-10 Batch 1:  Loss:     0.8907 Accuracy: 0.619600\n",
      "Epoch 11, CIFAR-10 Batch 2:  Loss:     0.8784 Accuracy: 0.600400\n",
      "Epoch 11, CIFAR-10 Batch 3:  Loss:     0.7809 Accuracy: 0.616800\n",
      "Epoch 11, CIFAR-10 Batch 4:  Loss:     0.7268 Accuracy: 0.621600\n",
      "Epoch 11, CIFAR-10 Batch 5:  Loss:     0.7851 Accuracy: 0.625200\n",
      "Epoch 12, CIFAR-10 Batch 1:  Loss:     0.8648 Accuracy: 0.626600\n",
      "Epoch 12, CIFAR-10 Batch 2:  Loss:     0.8447 Accuracy: 0.605000\n",
      "Epoch 12, CIFAR-10 Batch 3:  Loss:     0.7586 Accuracy: 0.617000\n",
      "Epoch 12, CIFAR-10 Batch 4:  Loss:     0.7448 Accuracy: 0.617000\n",
      "Epoch 12, CIFAR-10 Batch 5:  Loss:     0.7878 Accuracy: 0.624200\n",
      "Epoch 13, CIFAR-10 Batch 1:  Loss:     0.8448 Accuracy: 0.630600\n",
      "Epoch 13, CIFAR-10 Batch 2:  Loss:     0.8201 Accuracy: 0.601200\n",
      "Epoch 13, CIFAR-10 Batch 3:  Loss:     0.7377 Accuracy: 0.623000\n",
      "Epoch 13, CIFAR-10 Batch 4:  Loss:     0.7213 Accuracy: 0.614800\n",
      "Epoch 13, CIFAR-10 Batch 5:  Loss:     0.7710 Accuracy: 0.628400\n",
      "Epoch 14, CIFAR-10 Batch 1:  Loss:     0.8338 Accuracy: 0.629000\n",
      "Epoch 14, CIFAR-10 Batch 2:  Loss:     0.8110 Accuracy: 0.602800\n",
      "Epoch 14, CIFAR-10 Batch 3:  Loss:     0.7199 Accuracy: 0.624200\n",
      "Epoch 14, CIFAR-10 Batch 4:  Loss:     0.6573 Accuracy: 0.637800\n",
      "Epoch 14, CIFAR-10 Batch 5:  Loss:     0.7278 Accuracy: 0.635200\n",
      "Epoch 15, CIFAR-10 Batch 1:  Loss:     0.7864 Accuracy: 0.629400\n",
      "Epoch 15, CIFAR-10 Batch 2:  Loss:     0.7768 Accuracy: 0.600000\n",
      "Epoch 15, CIFAR-10 Batch 3:  Loss:     0.6791 Accuracy: 0.633800\n",
      "Epoch 15, CIFAR-10 Batch 4:  Loss:     0.6481 Accuracy: 0.630600\n",
      "Epoch 15, CIFAR-10 Batch 5:  Loss:     0.7010 Accuracy: 0.633200\n",
      "Epoch 16, CIFAR-10 Batch 1:  Loss:     0.7673 Accuracy: 0.641000\n",
      "Epoch 16, CIFAR-10 Batch 2:  Loss:     0.7708 Accuracy: 0.597600\n",
      "Epoch 16, CIFAR-10 Batch 3:  Loss:     0.6924 Accuracy: 0.622600\n",
      "Epoch 16, CIFAR-10 Batch 4:  Loss:     0.6782 Accuracy: 0.623600\n",
      "Epoch 16, CIFAR-10 Batch 5:  Loss:     0.7311 Accuracy: 0.627400\n",
      "Epoch 17, CIFAR-10 Batch 1:  Loss:     0.7712 Accuracy: 0.622000\n",
      "Epoch 17, CIFAR-10 Batch 2:  Loss:     0.7277 Accuracy: 0.606000\n",
      "Epoch 17, CIFAR-10 Batch 3:  Loss:     0.6568 Accuracy: 0.630400\n",
      "Epoch 17, CIFAR-10 Batch 4:  Loss:     0.6275 Accuracy: 0.635600\n",
      "Epoch 17, CIFAR-10 Batch 5:  Loss:     0.6568 Accuracy: 0.635800\n",
      "Epoch 18, CIFAR-10 Batch 1:  Loss:     0.7605 Accuracy: 0.631000\n",
      "Epoch 18, CIFAR-10 Batch 2:  Loss:     0.7214 Accuracy: 0.601000\n",
      "Epoch 18, CIFAR-10 Batch 3:  Loss:     0.6424 Accuracy: 0.635200\n",
      "Epoch 18, CIFAR-10 Batch 4:  Loss:     0.6219 Accuracy: 0.636200\n",
      "Epoch 18, CIFAR-10 Batch 5:  Loss:     0.6258 Accuracy: 0.643200\n",
      "Epoch 19, CIFAR-10 Batch 1:  Loss:     0.7212 Accuracy: 0.632800\n",
      "Epoch 19, CIFAR-10 Batch 2:  Loss:     0.7284 Accuracy: 0.596200\n",
      "Epoch 19, CIFAR-10 Batch 3:  Loss:     0.6236 Accuracy: 0.636000\n",
      "Epoch 19, CIFAR-10 Batch 4:  Loss:     0.6041 Accuracy: 0.636600\n",
      "Epoch 19, CIFAR-10 Batch 5:  Loss:     0.6318 Accuracy: 0.640200\n",
      "Epoch 20, CIFAR-10 Batch 1:  Loss:     0.7188 Accuracy: 0.637800\n",
      "Epoch 20, CIFAR-10 Batch 2:  Loss:     0.6761 Accuracy: 0.612400\n",
      "Epoch 20, CIFAR-10 Batch 3:  Loss:     0.6294 Accuracy: 0.636800\n",
      "Epoch 20, CIFAR-10 Batch 4:  Loss:     0.5708 Accuracy: 0.635600\n",
      "Epoch 20, CIFAR-10 Batch 5:  Loss:     0.6210 Accuracy: 0.631800\n",
      "Epoch 21, CIFAR-10 Batch 1:  Loss:     0.6969 Accuracy: 0.644600\n",
      "Epoch 21, CIFAR-10 Batch 2:  Loss:     0.6530 Accuracy: 0.619400\n",
      "Epoch 21, CIFAR-10 Batch 3:  Loss:     0.5840 Accuracy: 0.635400\n",
      "Epoch 21, CIFAR-10 Batch 4:  Loss:     0.5626 Accuracy: 0.640800\n",
      "Epoch 21, CIFAR-10 Batch 5:  Loss:     0.6005 Accuracy: 0.642000\n",
      "Epoch 22, CIFAR-10 Batch 1:  Loss:     0.6888 Accuracy: 0.631200\n",
      "Epoch 22, CIFAR-10 Batch 2:  Loss:     0.6646 Accuracy: 0.624800\n",
      "Epoch 22, CIFAR-10 Batch 3:  Loss:     0.6013 Accuracy: 0.636200\n",
      "Epoch 22, CIFAR-10 Batch 4:  Loss:     0.5542 Accuracy: 0.636400\n",
      "Epoch 22, CIFAR-10 Batch 5:  Loss:     0.5973 Accuracy: 0.635600\n",
      "Epoch 23, CIFAR-10 Batch 1:  Loss:     0.6826 Accuracy: 0.636600\n",
      "Epoch 23, CIFAR-10 Batch 2:  Loss:     0.6165 Accuracy: 0.618600\n",
      "Epoch 23, CIFAR-10 Batch 3:  Loss:     0.5737 Accuracy: 0.635000\n",
      "Epoch 23, CIFAR-10 Batch 4:  Loss:     0.5434 Accuracy: 0.642200\n",
      "Epoch 23, CIFAR-10 Batch 5:  Loss:     0.5518 Accuracy: 0.649200\n",
      "Epoch 24, CIFAR-10 Batch 1:  Loss:     0.6363 Accuracy: 0.640800\n",
      "Epoch 24, CIFAR-10 Batch 2:  Loss:     0.6168 Accuracy: 0.629000\n",
      "Epoch 24, CIFAR-10 Batch 3:  Loss:     0.5549 Accuracy: 0.640000\n",
      "Epoch 24, CIFAR-10 Batch 4:  Loss:     0.5317 Accuracy: 0.648400\n",
      "Epoch 24, CIFAR-10 Batch 5:  Loss:     0.5158 Accuracy: 0.651000\n",
      "Epoch 25, CIFAR-10 Batch 1:  Loss:     0.6413 Accuracy: 0.644400\n",
      "Epoch 25, CIFAR-10 Batch 2:  Loss:     0.5692 Accuracy: 0.630200\n",
      "Epoch 25, CIFAR-10 Batch 3:  Loss:     0.5226 Accuracy: 0.634400\n",
      "Epoch 25, CIFAR-10 Batch 4:  Loss:     0.5308 Accuracy: 0.640800\n",
      "Epoch 25, CIFAR-10 Batch 5:  Loss:     0.5221 Accuracy: 0.646800\n"
     ]
    },
    {
     "name": "stdout",
     "output_type": "stream",
     "text": [
      "Epoch 26, CIFAR-10 Batch 1:  Loss:     0.5999 Accuracy: 0.644200\n",
      "Epoch 26, CIFAR-10 Batch 2:  Loss:     0.5926 Accuracy: 0.629800\n",
      "Epoch 26, CIFAR-10 Batch 3:  Loss:     0.5151 Accuracy: 0.640200\n",
      "Epoch 26, CIFAR-10 Batch 4:  Loss:     0.5414 Accuracy: 0.638400\n",
      "Epoch 26, CIFAR-10 Batch 5:  Loss:     0.4832 Accuracy: 0.642400\n",
      "Epoch 27, CIFAR-10 Batch 1:  Loss:     0.6161 Accuracy: 0.643400\n",
      "Epoch 27, CIFAR-10 Batch 2:  Loss:     0.5439 Accuracy: 0.634800\n",
      "Epoch 27, CIFAR-10 Batch 3:  Loss:     0.5081 Accuracy: 0.641200\n",
      "Epoch 27, CIFAR-10 Batch 4:  Loss:     0.5201 Accuracy: 0.638200\n",
      "Epoch 27, CIFAR-10 Batch 5:  Loss:     0.4774 Accuracy: 0.645800\n",
      "Epoch 28, CIFAR-10 Batch 1:  Loss:     0.6055 Accuracy: 0.650800\n",
      "Epoch 28, CIFAR-10 Batch 2:  Loss:     0.5674 Accuracy: 0.632200\n",
      "Epoch 28, CIFAR-10 Batch 3:  Loss:     0.5133 Accuracy: 0.631600\n",
      "Epoch 28, CIFAR-10 Batch 4:  Loss:     0.4827 Accuracy: 0.643200\n",
      "Epoch 28, CIFAR-10 Batch 5:  Loss:     0.4355 Accuracy: 0.644600\n",
      "Epoch 29, CIFAR-10 Batch 1:  Loss:     0.5991 Accuracy: 0.637400\n",
      "Epoch 29, CIFAR-10 Batch 2:  Loss:     0.5373 Accuracy: 0.635400\n",
      "Epoch 29, CIFAR-10 Batch 3:  Loss:     0.4676 Accuracy: 0.647200\n",
      "Epoch 29, CIFAR-10 Batch 4:  Loss:     0.4807 Accuracy: 0.635000\n",
      "Epoch 29, CIFAR-10 Batch 5:  Loss:     0.4621 Accuracy: 0.638800\n",
      "Epoch 30, CIFAR-10 Batch 1:  Loss:     0.5536 Accuracy: 0.648400\n",
      "Epoch 30, CIFAR-10 Batch 2:  Loss:     0.5118 Accuracy: 0.640400\n",
      "Epoch 30, CIFAR-10 Batch 3:  Loss:     0.4551 Accuracy: 0.642400\n",
      "Epoch 30, CIFAR-10 Batch 4:  Loss:     0.4755 Accuracy: 0.633200\n",
      "Epoch 30, CIFAR-10 Batch 5:  Loss:     0.4146 Accuracy: 0.650000\n"
     ]
    }
   ],
   "source": [
    "\"\"\"\n",
    "DON'T MODIFY ANYTHING IN THIS CELL\n",
    "\"\"\"\n",
    "save_model_path = './image_classification'\n",
    "\n",
    "print('Training...')\n",
    "with tf.Session() as sess:\n",
    "    # Initializing the variables\n",
    "    sess.run(tf.global_variables_initializer())\n",
    "    \n",
    "    # Training cycle\n",
    "    for epoch in range(epochs):\n",
    "        # Loop over all batches\n",
    "        n_batches = 5\n",
    "        for batch_i in range(1, n_batches + 1):\n",
    "            for batch_features, batch_labels in helper.load_preprocess_training_batch(batch_i, batch_size):\n",
    "                train_neural_network(sess, optimizer, keep_probability, batch_features, batch_labels)\n",
    "            print('Epoch {:>2}, CIFAR-10 Batch {}:  '.format(epoch + 1, batch_i), end='')\n",
    "            print_stats(sess, batch_features, batch_labels, cost, accuracy)\n",
    "            \n",
    "    # Save Model\n",
    "    saver = tf.train.Saver()\n",
    "    save_path = saver.save(sess, save_model_path)"
   ]
  },
  {
   "cell_type": "markdown",
   "metadata": {},
   "source": [
    "# Checkpoint\n",
    "The model has been saved to disk.\n",
    "## Test Model\n",
    "Test your model against the test dataset.  This will be your final accuracy. You should have an accuracy greater than 50%. If you don't, keep tweaking the model architecture and parameters."
   ]
  },
  {
   "cell_type": "code",
   "execution_count": 104,
   "metadata": {},
   "outputs": [
    {
     "name": "stdout",
     "output_type": "stream",
     "text": [
      "INFO:tensorflow:Restoring parameters from ./image_classification\n",
      "Testing Accuracy: 0.6460707724094391\n",
      "\n"
     ]
    },
    {
     "data": {
      "image/png": "[encoded data removed]",
      "text/plain": [
       "<matplotlib.figure.Figure at 0x1e88421c390>"
      ]
     },
     "metadata": {
      "image/png": {
       "height": 319.0,
       "width": 355.0
      }
     },
     "output_type": "display_data"
    }
   ],
   "source": [
    "\"\"\"\n",
    "DON'T MODIFY ANYTHING IN THIS CELL\n",
    "\"\"\"\n",
    "%matplotlib inline\n",
    "%config InlineBackend.figure_format = 'retina'\n",
    "\n",
    "import tensorflow as tf\n",
    "import pickle\n",
    "import helper\n",
    "import random\n",
    "\n",
    "# Set batch size if not already set\n",
    "try:\n",
    "    if batch_size:\n",
    "        pass\n",
    "except NameError:\n",
    "    batch_size = 64\n",
    "\n",
    "save_model_path = './image_classification'\n",
    "n_samples = 4\n",
    "top_n_predictions = 3\n",
    "\n",
    "\n",
    "def test_model():\n",
    "    \"\"\"\n",
    "    Test the saved model against the test dataset\n",
    "    \"\"\"\n",
    "\n",
    "    test_features, test_labels = pickle.load(open('preprocess_test.p', mode='rb'))\n",
    "    loaded_graph = tf.Graph()\n",
    "\n",
    "    with tf.Session(graph=loaded_graph) as sess:\n",
    "        # Load model\n",
    "        loader = tf.train.import_meta_graph(save_model_path + '.meta')\n",
    "        loader.restore(sess, save_model_path)\n",
    "\n",
    "        # Get Tensors from loaded model\n",
    "        loaded_x = loaded_graph.get_tensor_by_name('x:0')\n",
    "        loaded_y = loaded_graph.get_tensor_by_name('y:0')\n",
    "        loaded_keep_prob = loaded_graph.get_tensor_by_name('keep_prob:0')\n",
    "        loaded_logits = loaded_graph.get_tensor_by_name('logits:0')\n",
    "        loaded_acc = loaded_graph.get_tensor_by_name('accuracy:0')\n",
    "        \n",
    "        # Get accuracy in batches for memory limitations\n",
    "        test_batch_acc_total = 0\n",
    "        test_batch_count = 0\n",
    "        \n",
    "        for test_feature_batch, test_label_batch in helper.batch_features_labels(test_features, test_labels, batch_size):\n",
    "            test_batch_acc_total += sess.run(\n",
    "                loaded_acc,\n",
    "                feed_dict={loaded_x: test_feature_batch, loaded_y: test_label_batch, loaded_keep_prob: 1.0})\n",
    "            test_batch_count += 1\n",
    "\n",
    "        print('Testing Accuracy: {}\\n'.format(test_batch_acc_total/test_batch_count))\n",
    "\n",
    "        # Print Random Samples\n",
    "        random_test_features, random_test_labels = tuple(zip(*random.sample(list(zip(test_features, test_labels)), n_samples)))\n",
    "        random_test_predictions = sess.run(\n",
    "            tf.nn.top_k(tf.nn.softmax(loaded_logits), top_n_predictions),\n",
    "            feed_dict={loaded_x: random_test_features, loaded_y: random_test_labels, loaded_keep_prob: 1.0})\n",
    "        helper.display_image_predictions(random_test_features, random_test_labels, random_test_predictions)\n",
    "\n",
    "\n",
    "test_model()"
   ]
  },
  {
   "cell_type": "markdown",
   "metadata": {},
   "source": [
    "## Why 50-80% Accuracy?\n",
    "You might be wondering why you can't get an accuracy any higher. First things first, 50% isn't bad for a simple CNN.  Pure guessing would get you 10% accuracy. However, you might notice people are getting scores [well above 80%](http://rodrigob.github.io/are_we_there_yet/build/classification_datasets_results.html#43494641522d3130).  That's because we haven't taught you all there is to know about neural networks. We still need to cover a few more techniques.\n",
    "## Submitting This Project\n",
    "When submitting this project, make sure to run all the cells before saving the notebook.  Save the notebook file as \"dlnd_image_classification.ipynb\" and save it as a HTML file under \"File\" -> \"Download as\".  Include the \"helper.py\" and \"problem_unittests.py\" files in your submission."
   ]
  },
  {
   "cell_type": "code",
   "execution_count": null,
   "metadata": {},
   "outputs": [],
   "source": []
  }
 ],
 "metadata": {
  "kernelspec": {
   "display_name": "Python 3",
   "language": "python",
   "name": "python3"
  },
  "language_info": {
   "codemirror_mode": {
    "name": "ipython",
    "version": 3
   },
   "file_extension": ".py",
   "mimetype": "text/x-python",
   "name": "python",
   "nbconvert_exporter": "python",
   "pygments_lexer": "ipython3",
   "version": "3.6.3"
  }
 },
 "nbformat": 4,
 "nbformat_minor": 1
}
